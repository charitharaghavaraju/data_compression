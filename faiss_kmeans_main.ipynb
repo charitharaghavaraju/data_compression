{
  "cells": [
    {
      "cell_type": "code",
      "execution_count": null,
      "metadata": {
        "colab": {
          "base_uri": "https://localhost:8080/"
        },
        "collapsed": true,
        "id": "st-rQVzr83HL",
        "outputId": "518bb6d9-c5aa-45a1-bdf3-8a129afa1be3"
      },
      "outputs": [
        {
          "output_type": "stream",
          "name": "stdout",
          "text": [
            "Requirement already satisfied: tensorflow in /usr/local/lib/python3.11/dist-packages (2.18.0)\n",
            "Requirement already satisfied: absl-py>=1.0.0 in /usr/local/lib/python3.11/dist-packages (from tensorflow) (1.4.0)\n",
            "Requirement already satisfied: astunparse>=1.6.0 in /usr/local/lib/python3.11/dist-packages (from tensorflow) (1.6.3)\n",
            "Requirement already satisfied: flatbuffers>=24.3.25 in /usr/local/lib/python3.11/dist-packages (from tensorflow) (25.2.10)\n",
            "Requirement already satisfied: gast!=0.5.0,!=0.5.1,!=0.5.2,>=0.2.1 in /usr/local/lib/python3.11/dist-packages (from tensorflow) (0.6.0)\n",
            "Requirement already satisfied: google-pasta>=0.1.1 in /usr/local/lib/python3.11/dist-packages (from tensorflow) (0.2.0)\n",
            "Requirement already satisfied: libclang>=13.0.0 in /usr/local/lib/python3.11/dist-packages (from tensorflow) (18.1.1)\n",
            "Requirement already satisfied: opt-einsum>=2.3.2 in /usr/local/lib/python3.11/dist-packages (from tensorflow) (3.4.0)\n",
            "Requirement already satisfied: packaging in /usr/local/lib/python3.11/dist-packages (from tensorflow) (24.2)\n",
            "Requirement already satisfied: protobuf!=4.21.0,!=4.21.1,!=4.21.2,!=4.21.3,!=4.21.4,!=4.21.5,<6.0.0dev,>=3.20.3 in /usr/local/lib/python3.11/dist-packages (from tensorflow) (5.29.4)\n",
            "Requirement already satisfied: requests<3,>=2.21.0 in /usr/local/lib/python3.11/dist-packages (from tensorflow) (2.32.3)\n",
            "Requirement already satisfied: setuptools in /usr/local/lib/python3.11/dist-packages (from tensorflow) (75.2.0)\n",
            "Requirement already satisfied: six>=1.12.0 in /usr/local/lib/python3.11/dist-packages (from tensorflow) (1.17.0)\n",
            "Requirement already satisfied: termcolor>=1.1.0 in /usr/local/lib/python3.11/dist-packages (from tensorflow) (3.0.1)\n",
            "Requirement already satisfied: typing-extensions>=3.6.6 in /usr/local/lib/python3.11/dist-packages (from tensorflow) (4.13.2)\n",
            "Requirement already satisfied: wrapt>=1.11.0 in /usr/local/lib/python3.11/dist-packages (from tensorflow) (1.17.2)\n",
            "Requirement already satisfied: grpcio<2.0,>=1.24.3 in /usr/local/lib/python3.11/dist-packages (from tensorflow) (1.71.0)\n",
            "Requirement already satisfied: tensorboard<2.19,>=2.18 in /usr/local/lib/python3.11/dist-packages (from tensorflow) (2.18.0)\n",
            "Requirement already satisfied: keras>=3.5.0 in /usr/local/lib/python3.11/dist-packages (from tensorflow) (3.8.0)\n",
            "Requirement already satisfied: numpy<2.1.0,>=1.26.0 in /usr/local/lib/python3.11/dist-packages (from tensorflow) (2.0.2)\n",
            "Requirement already satisfied: h5py>=3.11.0 in /usr/local/lib/python3.11/dist-packages (from tensorflow) (3.13.0)\n",
            "Requirement already satisfied: ml-dtypes<0.5.0,>=0.4.0 in /usr/local/lib/python3.11/dist-packages (from tensorflow) (0.4.1)\n",
            "Requirement already satisfied: tensorflow-io-gcs-filesystem>=0.23.1 in /usr/local/lib/python3.11/dist-packages (from tensorflow) (0.37.1)\n",
            "Requirement already satisfied: wheel<1.0,>=0.23.0 in /usr/local/lib/python3.11/dist-packages (from astunparse>=1.6.0->tensorflow) (0.45.1)\n",
            "Requirement already satisfied: rich in /usr/local/lib/python3.11/dist-packages (from keras>=3.5.0->tensorflow) (13.9.4)\n",
            "Requirement already satisfied: namex in /usr/local/lib/python3.11/dist-packages (from keras>=3.5.0->tensorflow) (0.0.8)\n",
            "Requirement already satisfied: optree in /usr/local/lib/python3.11/dist-packages (from keras>=3.5.0->tensorflow) (0.15.0)\n",
            "Requirement already satisfied: charset-normalizer<4,>=2 in /usr/local/lib/python3.11/dist-packages (from requests<3,>=2.21.0->tensorflow) (3.4.1)\n",
            "Requirement already satisfied: idna<4,>=2.5 in /usr/local/lib/python3.11/dist-packages (from requests<3,>=2.21.0->tensorflow) (3.10)\n",
            "Requirement already satisfied: urllib3<3,>=1.21.1 in /usr/local/lib/python3.11/dist-packages (from requests<3,>=2.21.0->tensorflow) (2.3.0)\n",
            "Requirement already satisfied: certifi>=2017.4.17 in /usr/local/lib/python3.11/dist-packages (from requests<3,>=2.21.0->tensorflow) (2025.1.31)\n",
            "Requirement already satisfied: markdown>=2.6.8 in /usr/local/lib/python3.11/dist-packages (from tensorboard<2.19,>=2.18->tensorflow) (3.8)\n",
            "Requirement already satisfied: tensorboard-data-server<0.8.0,>=0.7.0 in /usr/local/lib/python3.11/dist-packages (from tensorboard<2.19,>=2.18->tensorflow) (0.7.2)\n",
            "Requirement already satisfied: werkzeug>=1.0.1 in /usr/local/lib/python3.11/dist-packages (from tensorboard<2.19,>=2.18->tensorflow) (3.1.3)\n",
            "Requirement already satisfied: MarkupSafe>=2.1.1 in /usr/local/lib/python3.11/dist-packages (from werkzeug>=1.0.1->tensorboard<2.19,>=2.18->tensorflow) (3.0.2)\n",
            "Requirement already satisfied: markdown-it-py>=2.2.0 in /usr/local/lib/python3.11/dist-packages (from rich->keras>=3.5.0->tensorflow) (3.0.0)\n",
            "Requirement already satisfied: pygments<3.0.0,>=2.13.0 in /usr/local/lib/python3.11/dist-packages (from rich->keras>=3.5.0->tensorflow) (2.18.0)\n",
            "Requirement already satisfied: mdurl~=0.1 in /usr/local/lib/python3.11/dist-packages (from markdown-it-py>=2.2.0->rich->keras>=3.5.0->tensorflow) (0.1.2)\n",
            "Collecting faiss-cpu\n",
            "  Downloading faiss_cpu-1.10.0-cp311-cp311-manylinux_2_28_x86_64.whl.metadata (4.4 kB)\n",
            "Requirement already satisfied: numpy<3.0,>=1.25.0 in /usr/local/lib/python3.11/dist-packages (from faiss-cpu) (2.0.2)\n",
            "Requirement already satisfied: packaging in /usr/local/lib/python3.11/dist-packages (from faiss-cpu) (24.2)\n",
            "Downloading faiss_cpu-1.10.0-cp311-cp311-manylinux_2_28_x86_64.whl (30.7 MB)\n",
            "\u001b[2K   \u001b[90m━━━━━━━━━━━━━━━━━━━━━━━━━━━━━━━━━━━━━━━━\u001b[0m \u001b[32m30.7/30.7 MB\u001b[0m \u001b[31m22.7 MB/s\u001b[0m eta \u001b[36m0:00:00\u001b[0m\n",
            "\u001b[?25hInstalling collected packages: faiss-cpu\n",
            "Successfully installed faiss-cpu-1.10.0\n"
          ]
        }
      ],
      "source": [
        "!pip install tensorflow\n",
        "!pip install faiss-cpu"
      ]
    },
    {
      "cell_type": "code",
      "execution_count": null,
      "metadata": {
        "id": "GPr216ZK8rck"
      },
      "outputs": [],
      "source": [
        "import numpy as np\n",
        "from sklearn.preprocessing import StandardScaler\n",
        "import faiss  # Install with: pip install faiss-cpu (or faiss-gpu for GPU support)\n",
        "import tensorflow as tf\n",
        "import time\n",
        "import matplotlib.pyplot as plt\n",
        "from sklearn.random_projection import SparseRandomProjection"
      ]
    },
    {
      "cell_type": "code",
      "execution_count": null,
      "metadata": {
        "id": "kry7m0Za9ouU",
        "colab": {
          "base_uri": "https://localhost:8080/"
        },
        "outputId": "46407935-8aae-4985-fcac-2c7e863afb3d"
      },
      "outputs": [
        {
          "output_type": "stream",
          "name": "stdout",
          "text": [
            "Downloading data from https://storage.googleapis.com/tensorflow/tf-keras-datasets/mnist.npz\n",
            "\u001b[1m11490434/11490434\u001b[0m \u001b[32m━━━━━━━━━━━━━━━━━━━━\u001b[0m\u001b[37m\u001b[0m \u001b[1m0s\u001b[0m 0us/step\n"
          ]
        }
      ],
      "source": [
        "# Load MNIST data using TensorFlow/Keras\n",
        "(x_train, y_train), (x_test, y_test) = tf.keras.datasets.mnist.load_data()"
      ]
    },
    {
      "cell_type": "code",
      "execution_count": null,
      "metadata": {
        "id": "VFj9FcVstNL_"
      },
      "outputs": [],
      "source": [
        "# Load MNIST fashion data using tf keras\n",
        "# (x_train, y_train), (x_test, y_test) = tf.keras.datasets.fashion_mnist.load_data()"
      ]
    },
    {
      "cell_type": "code",
      "execution_count": null,
      "metadata": {
        "colab": {
          "base_uri": "https://localhost:8080/"
        },
        "id": "Jyf2IZcltqBH",
        "outputId": "7037deb2-6925-445f-c1b1-e93303817a32"
      },
      "outputs": [
        {
          "output_type": "execute_result",
          "data": {
            "text/plain": [
              "10000"
            ]
          },
          "metadata": {},
          "execution_count": 5
        }
      ],
      "source": [
        "len(x_test)"
      ]
    },
    {
      "cell_type": "code",
      "execution_count": null,
      "metadata": {
        "id": "bPOLYGUn92j5"
      },
      "outputs": [],
      "source": [
        "# Preprocess: Flatten and scale\n",
        "x_train = x_train.reshape(-1, 784).astype(np.float32)  # Flatten 28x28 to 784\n",
        "x_test = x_test.reshape(-1, 784).astype(np.float32)\n",
        "scaler = StandardScaler()\n",
        "X_train = scaler.fit_transform(x_train)\n",
        "X_test = scaler.transform(x_test)\n",
        "y_train = y_train.astype(np.uint8)\n",
        "y_test = y_test.astype(np.uint8)"
      ]
    },
    {
      "cell_type": "code",
      "execution_count": null,
      "metadata": {
        "id": "U0X2awuiCds2"
      },
      "outputs": [],
      "source": [
        "# Normalize data for cosine similarity\n",
        "X_train_normalized = X_train / np.linalg.norm(X_train, axis=1, keepdims=True)\n",
        "X_train_normalized = X_train_normalized.astype(np.float32)  # Faiss requires float32"
      ]
    },
    {
      "cell_type": "code",
      "execution_count": null,
      "metadata": {
        "id": "EoHlHs1MyypL"
      },
      "outputs": [],
      "source": [
        "epsilon = 1e-4  # Tolerance\n",
        "t_max = 100   # max_iterations\n",
        "learning_rate = 0.05  # For gradient descent\n",
        "w_0 = np.random.randn(784, 10)  # initial weights:: Example: Weights for a simple linear model"
      ]
    },
    {
      "cell_type": "code",
      "execution_count": null,
      "metadata": {
        "id": "JGgRvtdjEOhR"
      },
      "outputs": [],
      "source": [
        "# Define multiple lambda values to test\n",
        "lambda_values = [0.1, 0.5, 1.0]  # Different compression factors\n",
        "history_dict = {}  # To store training histories\n",
        "test_accuracies = {}  # To store test accuracies"
      ]
    },
    {
      "cell_type": "code",
      "execution_count": null,
      "metadata": {
        "id": "z_cCAiYZDvxY"
      },
      "outputs": [],
      "source": [
        "## Tensorflow approach (Uses GPU and significantly speeding up the process)\n",
        "def compute_gradient_tf(X, y, weights):\n",
        "    \"\"\"Computes the gradient of the loss function using TensorFlow.\"\"\"\n",
        "    # Convert weights to a TensorFlow variable\n",
        "    weights_tf = tf.Variable(weights)\n",
        "    with tf.GradientTape() as tape:\n",
        "        logits = X @ weights_tf  # Use the TensorFlow variable here\n",
        "        loss = tf.reduce_mean(tf.nn.softmax_cross_entropy_with_logits(\n",
        "            labels=tf.one_hot(y, depth=10), logits=logits\n",
        "        ))\n",
        "    gradient = tape.gradient(loss, weights_tf)  # Calculate gradient with respect to the TensorFlow variable\n",
        "    return gradient.numpy()"
      ]
    },
    {
      "cell_type": "code",
      "execution_count": null,
      "metadata": {
        "id": "9jkoaXAWMwSF"
      },
      "outputs": [],
      "source": [
        "# Hashing(dimensionality reduction) and clustering\n",
        "\n",
        "def lsh_clustering(X, n_clusters, n_bits=32):\n",
        "\n",
        "    # -------------------------------------------------------------------------------------------------------------------------------\n",
        "    # Apply random projection (LSH)\n",
        "    lsh = SparseRandomProjection(n_components=n_bits, random_state=42)\n",
        "    X_hashed = lsh.fit_transform(X)\n",
        "\n",
        "    # Normalize hashed vectors\n",
        "    X_hashed = X_hashed / np.linalg.norm(X_hashed, axis=1, keepdims=True)\n",
        "    # ----------------------------------------------------------------------------------------------------------------------------\n",
        "\n",
        "    # Use Faiss with cosine similarity on hashed data\n",
        "    index = faiss.IndexFlatIP(n_bits)\n",
        "    X_hashed = X_hashed.astype(np.float32)\n",
        "    kmeans = faiss.Clustering(n_bits, n_clusters)\n",
        "    kmeans.verbose = True\n",
        "    kmeans.niter = 10  # Reduced iterations for speed\n",
        "    kmeans.train(X_hashed, index)\n",
        "\n",
        "    centroids_hashed = faiss.vector_to_array(kmeans.centroids).reshape(n_clusters, n_bits)\n",
        "    D, I = index.search(X_hashed, 1)\n",
        "    clusters = I.flatten()\n",
        "\n",
        "    # Compute actual centroids in original space\n",
        "    centroids = np.zeros((n_clusters, X.shape[1]), dtype=np.float32)\n",
        "    for i in range(n_clusters):\n",
        "        cluster_points = X[clusters == i]\n",
        "        if len(cluster_points) > 0:\n",
        "            centroids[i] = np.mean(cluster_points, axis=0)\n",
        "\n",
        "    return centroids, clusters"
      ]
    },
    {
      "cell_type": "code",
      "execution_count": null,
      "metadata": {
        "id": "B28a7B1JNFNa"
      },
      "outputs": [],
      "source": [
        "def faiss_clustering(X_train_normalized, target_clusters):\n",
        "\n",
        "    # Faiss clustering\n",
        "    index = faiss.IndexFlatIP(784)\n",
        "    kmeans = faiss.Clustering(784, target_clusters)\n",
        "    kmeans.verbose = True\n",
        "    kmeans.niter = 20\n",
        "    kmeans.seed = 42\n",
        "    kmeans.train(X_train_normalized, index)\n",
        "\n",
        "    # Get cluster assignments and centroids\n",
        "    centroids_normalized = faiss.vector_to_array(kmeans.centroids).reshape(target_clusters, 784)\n",
        "    D, I = index.search(X_train_normalized, 1)\n",
        "    clusters = I.flatten()\n",
        "    centroids = centroids_normalized * np.linalg.norm(X_train, axis=1).mean()\n",
        "\n",
        "    return centroids, clusters"
      ]
    },
    {
      "cell_type": "code",
      "execution_count": null,
      "metadata": {
        "colab": {
          "base_uri": "https://localhost:8080/"
        },
        "id": "fFYXGXbiAAm_",
        "outputId": "6a06a576-4493-4455-98cb-7de97624ad2e"
      },
      "outputs": [
        {
          "output_type": "stream",
          "name": "stdout",
          "text": [
            "\n",
            "Processing lambda = 0.1\n"
          ]
        },
        {
          "output_type": "stream",
          "name": "stderr",
          "text": [
            "/usr/local/lib/python3.11/dist-packages/keras/src/layers/convolutional/base_conv.py:107: UserWarning: Do not pass an `input_shape`/`input_dim` argument to a layer. When using Sequential models, prefer using an `Input(shape)` object as the first layer in the model instead.\n",
            "  super().__init__(activity_regularizer=activity_regularizer, **kwargs)\n"
          ]
        },
        {
          "output_type": "stream",
          "name": "stdout",
          "text": [
            "Epoch 1/10\n",
            "\u001b[1m188/188\u001b[0m \u001b[32m━━━━━━━━━━━━━━━━━━━━\u001b[0m\u001b[37m\u001b[0m \u001b[1m7s\u001b[0m 26ms/step - accuracy: 0.7178 - loss: 0.8781\n",
            "Epoch 2/10\n",
            "\u001b[1m188/188\u001b[0m \u001b[32m━━━━━━━━━━━━━━━━━━━━\u001b[0m\u001b[37m\u001b[0m \u001b[1m5s\u001b[0m 24ms/step - accuracy: 0.9319 - loss: 0.2006\n",
            "Epoch 3/10\n",
            "\u001b[1m188/188\u001b[0m \u001b[32m━━━━━━━━━━━━━━━━━━━━\u001b[0m\u001b[37m\u001b[0m \u001b[1m6s\u001b[0m 30ms/step - accuracy: 0.9570 - loss: 0.1358\n",
            "Epoch 4/10\n",
            "\u001b[1m188/188\u001b[0m \u001b[32m━━━━━━━━━━━━━━━━━━━━\u001b[0m\u001b[37m\u001b[0m \u001b[1m5s\u001b[0m 24ms/step - accuracy: 0.9635 - loss: 0.1169\n",
            "Epoch 5/10\n",
            "\u001b[1m188/188\u001b[0m \u001b[32m━━━━━━━━━━━━━━━━━━━━\u001b[0m\u001b[37m\u001b[0m \u001b[1m6s\u001b[0m 28ms/step - accuracy: 0.9735 - loss: 0.0762\n",
            "Epoch 6/10\n",
            "\u001b[1m188/188\u001b[0m \u001b[32m━━━━━━━━━━━━━━━━━━━━\u001b[0m\u001b[37m\u001b[0m \u001b[1m9s\u001b[0m 24ms/step - accuracy: 0.9811 - loss: 0.0599\n",
            "Epoch 7/10\n",
            "\u001b[1m188/188\u001b[0m \u001b[32m━━━━━━━━━━━━━━━━━━━━\u001b[0m\u001b[37m\u001b[0m \u001b[1m6s\u001b[0m 29ms/step - accuracy: 0.9789 - loss: 0.0536\n",
            "Epoch 8/10\n",
            "\u001b[1m188/188\u001b[0m \u001b[32m━━━━━━━━━━━━━━━━━━━━\u001b[0m\u001b[37m\u001b[0m \u001b[1m4s\u001b[0m 24ms/step - accuracy: 0.9916 - loss: 0.0292\n",
            "Epoch 9/10\n",
            "\u001b[1m188/188\u001b[0m \u001b[32m━━━━━━━━━━━━━━━━━━━━\u001b[0m\u001b[37m\u001b[0m \u001b[1m9s\u001b[0m 43ms/step - accuracy: 0.9935 - loss: 0.0213\n",
            "Epoch 10/10\n",
            "\u001b[1m188/188\u001b[0m \u001b[32m━━━━━━━━━━━━━━━━━━━━\u001b[0m\u001b[37m\u001b[0m \u001b[1m7s\u001b[0m 24ms/step - accuracy: 0.9933 - loss: 0.0191\n",
            "Lambda 0.1 - Time taken: 349.29s, Test accuracy: 0.9691\n",
            "\n",
            "Processing lambda = 0.5\n",
            "Epoch 1/10\n",
            "\u001b[1m938/938\u001b[0m \u001b[32m━━━━━━━━━━━━━━━━━━━━\u001b[0m\u001b[37m\u001b[0m \u001b[1m27s\u001b[0m 27ms/step - accuracy: 0.8691 - loss: 0.4140\n",
            "Epoch 2/10\n",
            "\u001b[1m938/938\u001b[0m \u001b[32m━━━━━━━━━━━━━━━━━━━━\u001b[0m\u001b[37m\u001b[0m \u001b[1m40s\u001b[0m 26ms/step - accuracy: 0.9712 - loss: 0.0949\n",
            "Epoch 3/10\n",
            "\u001b[1m938/938\u001b[0m \u001b[32m━━━━━━━━━━━━━━━━━━━━\u001b[0m\u001b[37m\u001b[0m \u001b[1m41s\u001b[0m 26ms/step - accuracy: 0.9804 - loss: 0.0661\n",
            "Epoch 4/10\n",
            "\u001b[1m938/938\u001b[0m \u001b[32m━━━━━━━━━━━━━━━━━━━━\u001b[0m\u001b[37m\u001b[0m \u001b[1m41s\u001b[0m 26ms/step - accuracy: 0.9834 - loss: 0.0508\n",
            "Epoch 5/10\n",
            "\u001b[1m938/938\u001b[0m \u001b[32m━━━━━━━━━━━━━━━━━━━━\u001b[0m\u001b[37m\u001b[0m \u001b[1m42s\u001b[0m 27ms/step - accuracy: 0.9859 - loss: 0.0432\n",
            "Epoch 6/10\n",
            "\u001b[1m938/938\u001b[0m \u001b[32m━━━━━━━━━━━━━━━━━━━━\u001b[0m\u001b[37m\u001b[0m \u001b[1m24s\u001b[0m 26ms/step - accuracy: 0.9892 - loss: 0.0318\n",
            "Epoch 7/10\n",
            "\u001b[1m938/938\u001b[0m \u001b[32m━━━━━━━━━━━━━━━━━━━━\u001b[0m\u001b[37m\u001b[0m \u001b[1m25s\u001b[0m 26ms/step - accuracy: 0.9902 - loss: 0.0285\n",
            "Epoch 8/10\n",
            "\u001b[1m938/938\u001b[0m \u001b[32m━━━━━━━━━━━━━━━━━━━━\u001b[0m\u001b[37m\u001b[0m \u001b[1m41s\u001b[0m 26ms/step - accuracy: 0.9933 - loss: 0.0208\n",
            "Epoch 9/10\n",
            "\u001b[1m938/938\u001b[0m \u001b[32m━━━━━━━━━━━━━━━━━━━━\u001b[0m\u001b[37m\u001b[0m \u001b[1m41s\u001b[0m 26ms/step - accuracy: 0.9949 - loss: 0.0154\n",
            "Epoch 10/10\n",
            "\u001b[1m938/938\u001b[0m \u001b[32m━━━━━━━━━━━━━━━━━━━━\u001b[0m\u001b[37m\u001b[0m \u001b[1m41s\u001b[0m 26ms/step - accuracy: 0.9949 - loss: 0.0165\n",
            "Lambda 0.5 - Time taken: 1768.77s, Test accuracy: 0.9842\n",
            "\n",
            "Processing lambda = 1.0\n",
            "Epoch 1/10\n",
            "\u001b[1m1875/1875\u001b[0m \u001b[32m━━━━━━━━━━━━━━━━━━━━\u001b[0m\u001b[37m\u001b[0m \u001b[1m51s\u001b[0m 26ms/step - accuracy: 0.9157 - loss: 0.2747\n",
            "Epoch 2/10\n",
            "\u001b[1m1875/1875\u001b[0m \u001b[32m━━━━━━━━━━━━━━━━━━━━\u001b[0m\u001b[37m\u001b[0m \u001b[1m48s\u001b[0m 26ms/step - accuracy: 0.9848 - loss: 0.0483\n",
            "Epoch 3/10\n",
            "\u001b[1m1875/1875\u001b[0m \u001b[32m━━━━━━━━━━━━━━━━━━━━\u001b[0m\u001b[37m\u001b[0m \u001b[1m82s\u001b[0m 26ms/step - accuracy: 0.9911 - loss: 0.0283\n",
            "Epoch 4/10\n",
            "\u001b[1m1875/1875\u001b[0m \u001b[32m━━━━━━━━━━━━━━━━━━━━\u001b[0m\u001b[37m\u001b[0m \u001b[1m49s\u001b[0m 26ms/step - accuracy: 0.9934 - loss: 0.0198\n",
            "Epoch 5/10\n",
            "\u001b[1m1875/1875\u001b[0m \u001b[32m━━━━━━━━━━━━━━━━━━━━\u001b[0m\u001b[37m\u001b[0m \u001b[1m82s\u001b[0m 26ms/step - accuracy: 0.9950 - loss: 0.0156\n",
            "Epoch 6/10\n",
            "\u001b[1m1875/1875\u001b[0m \u001b[32m━━━━━━━━━━━━━━━━━━━━\u001b[0m\u001b[37m\u001b[0m \u001b[1m48s\u001b[0m 26ms/step - accuracy: 0.9966 - loss: 0.0108\n",
            "Epoch 7/10\n",
            "\u001b[1m1875/1875\u001b[0m \u001b[32m━━━━━━━━━━━━━━━━━━━━\u001b[0m\u001b[37m\u001b[0m \u001b[1m82s\u001b[0m 26ms/step - accuracy: 0.9960 - loss: 0.0113\n",
            "Epoch 8/10\n",
            "\u001b[1m1875/1875\u001b[0m \u001b[32m━━━━━━━━━━━━━━━━━━━━\u001b[0m\u001b[37m\u001b[0m \u001b[1m48s\u001b[0m 26ms/step - accuracy: 0.9973 - loss: 0.0089\n",
            "Epoch 9/10\n",
            "\u001b[1m1875/1875\u001b[0m \u001b[32m━━━━━━━━━━━━━━━━━━━━\u001b[0m\u001b[37m\u001b[0m \u001b[1m82s\u001b[0m 26ms/step - accuracy: 0.9971 - loss: 0.0093\n",
            "Epoch 10/10\n",
            "\u001b[1m1875/1875\u001b[0m \u001b[32m━━━━━━━━━━━━━━━━━━━━\u001b[0m\u001b[37m\u001b[0m \u001b[1m82s\u001b[0m 26ms/step - accuracy: 0.9980 - loss: 0.0060\n",
            "Lambda 1.0 - Time taken: 1606.91s, Test accuracy: 0.9871\n"
          ]
        }
      ],
      "source": [
        "# Run for each lambda value\n",
        "for lambda_val in lambda_values:\n",
        "    start_time = time.time()\n",
        "    print(f\"\\nProcessing lambda = {lambda_val}\")\n",
        "\n",
        "    # Set target clusters based on lambda\n",
        "    target_clusters = int(len(X_train) * lambda_val)\n",
        "\n",
        "    # LSH clustering\n",
        "    # centroids, clusters = lsh_clustering(X_train_normalized, target_clusters)\n",
        "\n",
        "    # Faiss Clustering\n",
        "    centroids, clusters = faiss_clustering(X_train_normalized, target_clusters)\n",
        "\n",
        "    # Extract representative labels\n",
        "    h_k = np.zeros(len(centroids), dtype=np.uint8)\n",
        "    for i in range(len(centroids)):\n",
        "        cluster_labels = y_train[clusters == i]\n",
        "        if len(cluster_labels) > 0:\n",
        "            h_k[i] = np.bincount(cluster_labels).argmax()\n",
        "\n",
        "    # Gradient descent optimization\n",
        "    weights = w_0.copy()\n",
        "    for iteration in range(t_max):\n",
        "        previous_centroids = centroids.copy()\n",
        "        for cluster_idx in range(len(centroids)):\n",
        "            cluster_points = X_train[clusters == cluster_idx]\n",
        "            cluster_labels = y_train[clusters == cluster_idx]\n",
        "            original_gradient = compute_gradient_tf(cluster_points, cluster_labels, weights)\n",
        "            compressed_gradient = compute_gradient_tf(centroids[cluster_idx].reshape(1, -1),\n",
        "                                                    np.array([h_k[cluster_idx]]), weights)\n",
        "            centroids[cluster_idx] -= learning_rate * (original_gradient - compressed_gradient).mean(axis=1)\n",
        "\n",
        "        change = np.max(np.linalg.norm(centroids - previous_centroids, axis=1))\n",
        "        if change <= epsilon:\n",
        "            break\n",
        "\n",
        "    # Assign compressed data\n",
        "    compressed_X = centroids\n",
        "    compressed_y = h_k\n",
        "\n",
        "    # Reshape compressed_X to 2D image format for CNN (28, 28, 1)\n",
        "    compressed_X_2d = compressed_X.reshape(-1, 28, 28, 1)  # Shape: (target_clusters, 28, 28, 1)\n",
        "    X_test_2d = X_test.reshape(-1, 28, 28, 1)             # Shape: (10000, 28, 28, 1)\n",
        "\n",
        "\n",
        "    # model\n",
        "    model = tf.keras.Sequential([\n",
        "        tf.keras.layers.Conv2D(32, (3, 3), activation='relu', input_shape=(28, 28, 1)),\n",
        "        tf.keras.layers.MaxPooling2D((2, 2)),\n",
        "        tf.keras.layers.Conv2D(64, (3, 3), activation='relu'),\n",
        "        tf.keras.layers.MaxPooling2D((2, 2)),\n",
        "        tf.keras.layers.Flatten(),\n",
        "        tf.keras.layers.Dense(128, activation='relu'),\n",
        "        tf.keras.layers.Dense(10, activation='softmax')\n",
        "    ])\n",
        "\n",
        "    # Compile the model\n",
        "    model.compile(optimizer='adam',\n",
        "                  loss='sparse_categorical_crossentropy',\n",
        "                  metrics=['accuracy'])\n",
        "\n",
        "    # Train model on compressed data\n",
        "    history = model.fit(compressed_X_2d, compressed_y,\n",
        "                        epochs=10,\n",
        "                        verbose=1)\n",
        "\n",
        "    # Evaluate on test data\n",
        "    test_loss, test_acc = model.evaluate(X_test_2d, y_test, verbose=0)\n",
        "\n",
        "    # Store results\n",
        "    history_dict[lambda_val] = history.history\n",
        "    test_accuracies[lambda_val] = test_acc\n",
        "\n",
        "    end_time = time.time()\n",
        "    print(f\"Lambda {lambda_val} - Time taken: {end_time - start_time:.2f}s, Test accuracy: {test_acc:.4f}\")"
      ]
    },
    {
      "cell_type": "code",
      "execution_count": null,
      "metadata": {
        "id": "KN-jgSMwEh_q"
      },
      "outputs": [],
      "source": [
        "# # Run for each lambda value\n",
        "# for lambda_val in lambda_values:\n",
        "#     start_time = time.time()\n",
        "#     print(f\"\\nProcessing lambda = {lambda_val}\")\n",
        "\n",
        "#     # Set target clusters based on lambda\n",
        "#     target_clusters = int(len(X_train) * lambda_val)\n",
        "\n",
        "#     # LSH clustering\n",
        "#     centroids, clusters = lsh_clustering(X_train_normalized, target_clusters)\n",
        "\n",
        "#     # Faiss Clustering\n",
        "#     # centroids, clusters = faiss_clustering(X_train_normalized, target_clusters)\n",
        "\n",
        "#     # Extract representative labels\n",
        "#     h_k = np.zeros(len(centroids), dtype=np.uint8)\n",
        "#     for i in range(len(centroids)):\n",
        "#         cluster_labels = y_train[clusters == i]\n",
        "#         if len(cluster_labels) > 0:\n",
        "#             h_k[i] = np.bincount(cluster_labels).argmax()\n",
        "\n",
        "#     # Gradient descent optimization\n",
        "#     weights = w_0.copy()\n",
        "#     for iteration in range(t_max):\n",
        "#         previous_centroids = centroids.copy()\n",
        "#         for cluster_idx in range(len(centroids)):\n",
        "#             cluster_points = X_train[clusters == cluster_idx]\n",
        "#             cluster_labels = y_train[clusters == cluster_idx]\n",
        "#             original_gradient = compute_gradient_tf(cluster_points, cluster_labels, weights)\n",
        "#             compressed_gradient = compute_gradient_tf(centroids[cluster_idx].reshape(1, -1),\n",
        "#                                                     np.array([h_k[cluster_idx]]), weights)\n",
        "#             centroids[cluster_idx] -= learning_rate * (original_gradient - compressed_gradient).mean(axis=1)\n",
        "\n",
        "#         change = np.max(np.linalg.norm(centroids - previous_centroids, axis=1))\n",
        "#         if change <= epsilon:\n",
        "#             break\n",
        "\n",
        "#     # Assign compressed data\n",
        "#     compressed_X = centroids\n",
        "#     compressed_y = h_k\n",
        "\n",
        "#     # Train model on compressed data\n",
        "#     # model = tf.keras.Sequential([\n",
        "#     #     tf.keras.layers.Dense(128, activation='relu', input_shape=(784,)),\n",
        "#     #     tf.keras.layers.Dense(10, activation='softmax')\n",
        "#     # ])\n",
        "\n",
        "#     model = tf.keras.Sequential([\n",
        "#         tf.keras.layers.Dense(256, activation='relu', input_shape=(784,)),\n",
        "#         tf.keras.layers.Dense(128, activation='relu'),\n",
        "#         tf.keras.layers.Dense(64, activation='relu'),\n",
        "#         tf.keras.layers.Dense(10, activation='softmax')\n",
        "#     ])\n",
        "#     model.compile(optimizer='adam',\n",
        "#                  loss='sparse_categorical_crossentropy',\n",
        "#                  metrics=['accuracy'])\n",
        "\n",
        "#     history = model.fit(compressed_X, compressed_y,\n",
        "#                        epochs=10,\n",
        "#                        verbose=1)\n",
        "\n",
        "#     # Evaluate on test data\n",
        "#     test_loss, test_acc = model.evaluate(X_test, y_test, verbose=0)\n",
        "\n",
        "#     # Store results\n",
        "#     history_dict[lambda_val] = history.history\n",
        "#     test_accuracies[lambda_val] = test_acc\n",
        "\n",
        "#     end_time = time.time()\n",
        "#     print(f\"Lambda {lambda_val} - Time taken: {end_time - start_time:.2f}s, Test accuracy: {test_acc:.4f}\")"
      ]
    },
    {
      "cell_type": "code",
      "execution_count": null,
      "metadata": {
        "colab": {
          "base_uri": "https://localhost:8080/",
          "height": 507
        },
        "id": "tmovh4wAEmLC",
        "outputId": "f94d4499-fbe6-49a5-c54c-b8858fb1705d"
      },
      "outputs": [
        {
          "output_type": "display_data",
          "data": {
            "text/plain": [
              "<Figure size 1200x500 with 2 Axes>"
            ],
            "image/png": "[encoded data removed]"
          },
          "metadata": {}
        }
      ],
      "source": [
        "# Plotting\n",
        "plt.figure(figsize=(12, 5))\n",
        "\n",
        "# Plot 1: Loss profiles\n",
        "plt.subplot(1, 2, 1)\n",
        "for lambda_val, history in history_dict.items():\n",
        "    plt.plot(history['loss'], label=f'λ={lambda_val}')\n",
        "plt.title('Training Loss vs. Epoch')\n",
        "plt.xlabel('Epoch')\n",
        "plt.ylabel('Loss')\n",
        "plt.legend()\n",
        "plt.grid(True)\n",
        "\n",
        "# Plot 2: Test accuracies\n",
        "plt.subplot(1, 2, 2)\n",
        "plt.bar([str(l) for l in lambda_values], test_accuracies.values())\n",
        "plt.title('Test Accuracy vs. Lambda')\n",
        "plt.xlabel('Lambda')\n",
        "plt.ylabel('Test Accuracy')\n",
        "plt.ylim(0, 1)\n",
        "\n",
        "plt.tight_layout()\n",
        "plt.show()"
      ]
    },
    {
      "cell_type": "code",
      "execution_count": null,
      "metadata": {
        "id": "VJqCjYqy0u3e"
      },
      "outputs": [],
      "source": []
    }
  ],
  "metadata": {
    "colab": {
      "provenance": []
    },
    "kernelspec": {
      "display_name": "Python 3",
      "name": "python3"
    },
    "language_info": {
      "name": "python"
    }
  },
  "nbformat": 4,
  "nbformat_minor": 0
}